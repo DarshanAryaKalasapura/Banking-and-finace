{
 "cells": [
  {
   "cell_type": "code",
   "execution_count": null,
   "id": "728bcb15",
   "metadata": {},
   "outputs": [],
   "source": [
    "#importing libraies\n",
    "import pandas as pd\n",
    "import numpy as np\n",
    "import matplotlib.pyplot as plt\n",
    "import seaborn as sns\n"
   ]
  },
  {
   "cell_type": "code",
   "execution_count": null,
   "id": "243f7316",
   "metadata": {},
   "outputs": [],
   "source": [
    "#reading data\n",
    "df=pd.read_csv('flight_booking.csv')\n",
    "df=df.drop(column=['columns':'0']\n",
    "df.head()           "
   ]
  },
  {
   "cell_type": "code",
   "execution_count": null,
   "id": "34edbd51",
   "metadata": {},
   "outputs": [],
   "source": [
    "#Loading data and shape, dataframe\n",
    "df.shape\n",
    "df.info()\n",
    "df.describe()"
   ]
  },
  {
   "cell_type": "code",
   "execution_count": null,
   "id": "fcf4a297",
   "metadata": {},
   "outputs": [],
   "source": [
    "#Cheching the missing value\n",
    "df.isnull().sum()"
   ]
  },
  {
   "cell_type": "code",
   "execution_count": null,
   "id": "80cd77e1",
   "metadata": {},
   "outputs": [],
   "source": [
    "#Data visulization\n",
    "plt.figure(figsize=(15,5))\n",
    "sns.lineplot(x=df['airline'],y=df['price'])\n",
    "plt.little('Airlines','price',frontsize=15)\n",
    "plt.xlabel('Airline',frontsize=15)\n",
    "plt.ylabel('price',frontsize=15)\n",
    "plt.show()"
   ]
  },
  {
   "cell_type": "code",
   "execution_count": null,
   "id": "50dfa3ef",
   "metadata": {},
   "outputs": [],
   "source": [
    "#The price of the ticket inecreases the day left for departure decreases\n",
    "plt.figure(figsize=(15,5))\n",
    "sns.lineplot(x=d['day_left'],y=['price'],colour='blue')\n",
    "plt.little('day left for departure verses ticket price',frontsize=15)\n",
    "plt.xlabel('day_left',frontsize=15)\n",
    "plt.ylabel('ticket price',frontsize=15)\n",
    "plt.show()"
   ]
  },
  {
   "cell_type": "code",
   "execution_count": null,
   "id": "6060ab2c",
   "metadata": {},
   "outputs": [],
   "source": [
    "#price range of all flights\n",
    "plt.figure(figsize=(15,5))\n",
    "sns.barplot(x='airlines',y='price',data=df)"
   ]
  },
  {
   "cell_type": "code",
   "execution_count": null,
   "id": "1e2bcd48",
   "metadata": {},
   "outputs": [],
   "source": [
    "#Range of all of filghts\n",
    "plt.figure(figsize=(10,8))\n",
    "sns.barplot(x='class',y='price'.data=df,hue='airline')"
   ]
  },
  {
   "cell_type": "code",
   "execution_count": null,
   "id": "8c424943",
   "metadata": {},
   "outputs": [],
   "source": [
    "#Range of flights sourec and destination, No of day left\n",
    "fig,ax=plt.subplot(1,2(figsize=20,6))\n",
    "sns.lineplot(x='days_left',y='price',data=df,hue='source city',ax=ax[0])\n",
    "sns.lineplot(x='days_left',y='price',data=df,hue='destinstion city',ax=ax[1])\n",
    "plt.show()"
   ]
  },
  {
   "cell_type": "code",
   "execution_count": null,
   "id": "65828e6b",
   "metadata": {},
   "outputs": [],
   "source": [
    "#visulization of features with countplot\n",
    "plt.figure(figsize=(15,23))\n",
    "\n",
    "plt.subplot(4,2,1)\n",
    "sns.countplot(x=['airline'],data=df)\n",
    "plt.little(\"frequency of airline\")\n",
    "\n",
    "plt.subplot(4,2,2)\n",
    "sns.countplot(x=['source city'],data=df)\n",
    "plt.little(\"frequency of source city\")\n",
    "\n",
    "plt.subplot(4,2,3)\n",
    "sns.countplot(x=['departure_time'],data=df)\n",
    "plt.little(\"frequency of departure time\")\n",
    "\n",
    "plt.subplot(4,2,4)\n",
    "sns.countplot(x=['stops'],data=df)\n",
    "plt.little(\"frequency of stops\")\n",
    "\n",
    "plt.subplot(4,2,5)\n",
    "sns.countplot(x=['arrival_time'],data=df)\n",
    "plt.little(\"frequency of arrival time\")\n",
    "\n",
    "plt.subplot(4,2,6)\n",
    "sns.countplot(x=['destination city'],data=df)\n",
    "plt.little(\"frequency of destination city\")\n",
    "\n",
    "plt.subplot(4,2,7)\n",
    "sns.countplot(x=['class'],data=df)\n",
    "plt.little('frequency of class')\n",
    "\n",
    "plt.show()"
   ]
  },
  {
   "cell_type": "code",
   "execution_count": null,
   "id": "75ef98b3",
   "metadata": {},
   "outputs": [],
   "source": [
    "#performing one hot encoding for catagerical features\n",
    "from sklearn.preprocessing import labelEncoder\n",
    "le=lebelEncoder()\n",
    "df[\"Airline\"]=le.fit_tranform(df('airline'))\n",
    "df[\"source_city\"]=le.fit_tranform('source_city')\n",
    "df[\"departure_time\"]=le.fit_tranform('departure_time')\n",
    "df[\"stops\"]=le.fit_tranforn('stops')\n",
    "df[\"arrival_time\"]=le.fit_tranform('arrival_time')\n",
    "df[\"destination_time\"]=le.fit_tranform('destination_time')\n",
    "df[\"class\"]=le.fit_tranform('class')\n",
    "df.info()\n"
   ]
  },
  {
   "cell_type": "code",
   "execution_count": null,
   "id": "f2f163cd",
   "metadata": {},
   "outputs": [],
   "source": [
    "#plotting the correlation graph to see the correlation between features and depended variable\n",
    "plt.figure(figsize=(15,20))\n",
    "sns.heatmap(df.corr(),annot=true,cmap=coolwarm)\n",
    "plt.show()\n"
   ]
  },
  {
   "cell_type": "code",
   "execution_count": null,
   "id": "fd87aa37",
   "metadata": {},
   "outputs": [],
   "source": [
    "#selecting feature using VIF.VIF shoulb be less than 5.so drop the stop features\n",
    "from stats.model.starts.outlier.influence import variance_inflation_factor\n",
    "col_list=[]\n",
    "for col in df.column\n",
    "     if(df(col).dtype!='object')&(col!='price') \n",
    "    col_list.append(col)\n",
    "    \n",
    "    x=df[col_list]\n",
    "    vif_data=pd.Dataframe()\n",
    "    vif_data['features']=x.colunms\n",
    "    vif_data[VIF]=[Variance_inflation_factore(x.values, i) for i in range(len(x.colunms))]\n",
    "    print(vif_data)"
   ]
  },
  {
   "cell_type": "code",
   "execution_count": null,
   "id": "8a63d5d8",
   "metadata": {},
   "outputs": [],
   "source": [
    "#dropping stops colunm all having less than 5\n",
    "df=df.drop([colunms='stops'])\n",
    "\n",
    "from stats.model.starts.outlier.influence import variance_inflation_factor\n",
    "col_list=[]\n",
    "for col in df.column\n",
    "     if(df(col).dtype!='object')&(col!='price') \n",
    "    col_list.append(col)\n",
    "    \n",
    "    x=df[col_list]\n",
    "    vif_data=pd.Dataframe()\n",
    "    vif_data['features']=x.colunms\n",
    "    vif_data[VIF]=[Variance_inflation_factore(x.values, i) for i in range(len(x.colunms))]\n",
    "    print(vif_data)"
   ]
  },
  {
   "cell_type": "code",
   "execution_count": null,
   "id": "be377313",
   "metadata": {},
   "outputs": [],
   "source": [
    "#applying standardization and implementation linear regression model to predict price of the flight\n",
    "x=df.drop([colunm='price'])\n",
    "y=df['price']\n",
    "from sklearn.model_selection import train_test_split\n",
    "x_train,x_test,y_train,y_test=train_test_split(x,y,test_size=0.2,randaom_state=42)\n",
    "from sklearn.preprocessing import StandardScaler\n",
    "sc=StandardScaler()\n",
    "x_train=sc.fit_tranform(x_train)\n",
    "y_test=sc.fit_tranform(test)\n",
    "from sklearn.linear_model import linearRegression\n",
    "lr=LinearRegression()\n",
    "lr.fit(x_train,y_train)\n",
    "y_pred=lr.predict(x_test)\n",
    "difference=pd.Dataframe(np.[y_test,y_pred],col=['Actual_value','predicted_value'])\n",
    "print(difference)"
   ]
  },
  {
   "cell_type": "code",
   "execution_count": null,
   "id": "6a4fb8fd",
   "metadata": {},
   "outputs": [],
   "source": [
    "#calculating r2 score,MAE,MAPE,MSE,RMSE for linear Regression\n",
    "from sklearn.matrics import r2_score\n",
    "r2_score(y_test,y_pred)\n",
    "from sklearn import matrics\n",
    "mean_abs_error=metrics_mean_absolute_error(y_test,y_pred)\n",
    "mean_abs_error\n",
    "from sklearn.metrice import mean_absolute_percentage_error\n",
    "mean_absolute_percentage_error(y_test,y_pred)\n",
    "mean_sqr_error=metrice.mean.squared_error(y_test,y_pred)\n",
    "mean_sqr_error\n",
    "root_mean_sq_error=np.sqrt(metrice.mean.squared_error(y_test,y_pred))"
   ]
  },
  {
   "cell_type": "code",
   "execution_count": null,
   "id": "4df0030d",
   "metadata": {},
   "outputs": [],
   "source": [
    "#plotting the graph actual and predicted\n",
    "sns.displot(y_test,label='Actual')\n",
    "sns.displot(y_pred,Label='predicted')\n",
    "plt.legend()"
   ]
  },
  {
   "cell_type": "code",
   "execution_count": null,
   "id": "00b2c96b",
   "metadata": {},
   "outputs": [],
   "source": [
    "#Decision Tree\n",
    "from sklearn.tree import DecisionTreeRegression\n",
    "df=DecisionTreeRegression()\n",
    "df.fit(x_train,y_train)\n",
    "y_pred=dt.fit(x_test)\n",
    "r2_score=(y_test,y_pred)\n",
    "mean.abs_error=metrices.mean.absolute.error(y_test,y_pred)\n",
    "mean.abs.error\n",
    "from sklearn.metrices import mean.absolute.percentage.error\n",
    "mean.absolute.percentage.error(y_test,y_pred)\n",
    "mean_sqr_error=metrice.mean.squared_error(y_test,y_pred)\n",
    "mean_sqr_error\n",
    "root_mean_sq_error=np.sqrt(metrice.mean.squared_error(y_test,y_pred))"
   ]
  },
  {
   "cell_type": "code",
   "execution_count": null,
   "id": "83a433bc",
   "metadata": {},
   "outputs": [],
   "source": [
    "from sklearn.ensable import RandomforestRegressor\n",
    "rfg=RandomForestRegressor()\n",
    "rfg.fit(x_train,y_train)\n",
    "y_pred=rfg.predicted(x_test)\n",
    "r2_score=(y_test,y_pred)\n",
    "mean.abs_error=metrices.mean.absolute.error(y_test,y_pred)\n",
    "mean.abs.error\n",
    "from sklearn.metrices import mean.absolute.percentage.error\n",
    "mean.absolute.percentage.error(y_test,y_pred)\n",
    "mean_sqr_error=metrice.mean.squared_error(y_test,y_pred)\n",
    "mean_sqr_error\n",
    "root_mean_sq_error=np.sqrt(metrice.mean.squared_error(y_test,y_pred))"
   ]
  }
 ],
 "metadata": {
  "kernelspec": {
   "display_name": "Python 3 (ipykernel)",
   "language": "python",
   "name": "python3"
  },
  "language_info": {
   "codemirror_mode": {
    "name": "ipython",
    "version": 3
   },
   "file_extension": ".py",
   "mimetype": "text/x-python",
   "name": "python",
   "nbconvert_exporter": "python",
   "pygments_lexer": "ipython3",
   "version": "3.11.3"
  }
 },
 "nbformat": 4,
 "nbformat_minor": 5
}
