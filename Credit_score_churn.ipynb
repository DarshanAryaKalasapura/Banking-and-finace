{
 "cells": [
  {
   "cell_type": "code",
   "execution_count": null,
   "id": "da6edde5",
   "metadata": {},
   "outputs": [],
   "source": [
    "#importing libreries \n",
    "import pandas as pd\n",
    "import numpy as np\n",
    "import matplotlib.pyplot as plt\n",
    "import seanborn as sns"
   ]
  },
  {
   "cell_type": "code",
   "execution_count": null,
   "id": "1277a2c0",
   "metadata": {},
   "outputs": [],
   "source": [
    "#loading data and removing coloumns\n",
    "df=pd.read_csv(\" \")\n",
    "df=df.drop(coloumn[=\"ID\",\"customer ID\",\"name\",\"SNS\",\"Type of loan\",\"Credit_history_Age\"]\n",
    "df.head()"
   ]
  },
  {
   "cell_type": "code",
   "execution_count": null,
   "id": "a3f9ffed",
   "metadata": {},
   "outputs": [],
   "source": [
    "#Describing shape\n",
    "df.shape\n",
    "df.info()\n",
    "df.describe()"
   ]
  },
  {
   "cell_type": "code",
   "execution_count": null,
   "id": "aa4efbfb",
   "metadata": {},
   "outputs": [],
   "source": [
    "#missing value\n",
    "df.isnull().sum()"
   ]
  },
  {
   "cell_type": "code",
   "execution_count": null,
   "id": "0b02743d",
   "metadata": {},
   "outputs": [],
   "source": [
    "#Replacing empty string and null values.\n",
    "df[\"occupation\"]=df[\"occupation\"].replace(\"____\",np.nan)"
   ]
  },
  {
   "cell_type": "code",
   "execution_count": null,
   "id": "a1090f9c",
   "metadata": {},
   "outputs": [],
   "source": [
    "#converting values into int and float\n",
    "df[\"age\"]=df[\"age\"].astype(int)\n",
    "df[\"Annual_income\"]=df[\"Annual income\"].astype(float)"
   ]
  },
  {
   "cell_type": "code",
   "execution_count": null,
   "id": "86074c98",
   "metadata": {},
   "outputs": [],
   "source": [
    "#Converting categorical value into numerical\n",
    "df[\"credit_score\"]=df[\"credit_score\"].replace([\"Poor\",\"Standard\",\"Good\"],[1,2,3])"
   ]
  },
  {
   "cell_type": "code",
   "execution_count": null,
   "id": "b25757a9",
   "metadata": {},
   "outputs": [],
   "source": [
    "#After missing values has been replaced. some null value ase there. we can replace by using farward and backward filling method\n",
    "df=df.isnull().sum()\n",
    "df=df.fillna(method=\"ffill\")\n",
    "df=df.fillna(method=\"bfill\")\n",
    "df=df.isnull().sum()"
   ]
  },
  {
   "cell_type": "code",
   "execution_count": null,
   "id": "e4c79d81",
   "metadata": {},
   "outputs": [],
   "source": [
    "#Removing outlier from age since all others columns are relevent\n",
    "sns.boxplot(df[\"age\"])\n",
    "plt.xlabel(\"age\")\n",
    "plt.ylabel(\"count\")\n",
    "plt.show()"
   ]
  },
  {
   "cell_type": "code",
   "execution_count": null,
   "id": "807295d2",
   "metadata": {},
   "outputs": [],
   "source": [
    "col_names=[\"age\"]\n",
    "Q1=df.Age.quantile(0.25)\n",
    "Q3=df.Age.quantile(0.75)\n",
    "IQR=Q3-Q1\n",
    "Data=df([df.Age>=Q1-1.5*IQR]&[df.Age<=Q1+1.5*IQR])\n",
    "sns.boxplot(df[\"age\"])\n",
    "plt.xlabel(\"age\")\n",
    "plt.ylabel(\"count\")\n",
    "plt.show()"
   ]
  },
  {
   "cell_type": "code",
   "execution_count": null,
   "id": "a066ebb6",
   "metadata": {},
   "outputs": [],
   "source": [
    "#performing one hot encoding for categorical data\n",
    "from sklearn.preprocessing Labelencoder\n",
    "le=labelEncoder()\n",
    "df[\"month\"]=le.fit_tranform(df[\"month\"])\n",
    "df[\"occupation\"]=le.fit_transform(df[\"occupation\"])\n",
    "df[\"payment_behaviour\"]=le.fit_tranform(df[\"payment_behaviour\"])\n",
    "df.info()"
   ]
  },
  {
   "cell_type": "code",
   "execution_count": null,
   "id": "33c401fc",
   "metadata": {},
   "outputs": [],
   "source": [
    "#Selecting feature by using VIF\n",
    "from statsmodel.stats.outlier_influence import variance_inflation_factor\n",
    "col_list=[]\n",
    "for col in df.column:\n",
    "    if((df[col.]dtype!='object') & (col!='credit_score')):\n",
    "        col_list.append(col)\n",
    "        X=df[col_list]\n",
    "    vif_data = pd.dataframe()\n",
    "    vif_data[\"feature\"]=X.columns\n",
    "    vif_data[\"VIF\"]=[variation_influence_factor(x.values,i)\n",
    "                    for i in range (x.coloumns)]\n",
    "    print(vif_data)"
   ]
  },
  {
   "cell_type": "code",
   "execution_count": null,
   "id": "a1d2591a",
   "metadata": {},
   "outputs": [],
   "source": [
    "#Logistic_Regression\n",
    "x=df.drop(coloumn=[\"credit_score\"])\n",
    "y=df[\"credit_score\"]\n",
    "from sklearn.model_selection import train_test_split\n",
    "x_train,y_train,x_test,y_test=train_test_split(x,y,test_size=0.42,random_state=42)\n",
    "from sklearn.preprocessing import standaredscaler\n",
    "x_train=sc.fit.tranform(x_train)\n",
    "x_test=sc.tranform(x_test)\n",
    "from sklern.linear_model import logistic regression\n",
    "lr=logisticRegression\n",
    "lr.fit(x_train,y_train)\n",
    "y_pred=lr.predict(x_test)\n",
    "from sklearn.metrix import accuary_score\n",
    "accuarcy_score=(y_test,y_pred)\n",
    "pd.dataframe({\"actual_value\":y_test,\"predicted_value\":y_pred})"
   ]
  },
  {
   "cell_type": "code",
   "execution_count": null,
   "id": "19f514bc",
   "metadata": {},
   "outputs": [],
   "source": [
    "#Decision_tree\n",
    "from sklearn.tree import decisiontreeClassifier\n",
    "dt=decisionTreeClassifier()\n",
    "df.fit(x_train,y_train)\n",
    "y_pred=dt.predict(x_test)\n",
    "accuarcy_score=(y_test,y_pred)\n",
    "pd.dataframe({\"actual_value\":y_test,\"predicted_value\":y_pred})"
   ]
  },
  {
   "cell_type": "code",
   "execution_count": null,
   "id": "70aac698",
   "metadata": {},
   "outputs": [],
   "source": [
    "#Randomforestclassifier\n",
    "from sklearn.ensemble import RandomforestClassifier\n",
    "rfc=RandomForestClassifier()\n",
    "rfc=(x_train,y_train)\n",
    "y_pred=rfc.predict(x_test)\n",
    "accuarcy_score=(y_test,y_pred)\n",
    "pd.dataframe({\"actual_value\":y_test,\"predicted_value\":y_pred})"
   ]
  }
 ],
 "metadata": {
  "kernelspec": {
   "display_name": "Python 3 (ipykernel)",
   "language": "python",
   "name": "python3"
  },
  "language_info": {
   "codemirror_mode": {
    "name": "ipython",
    "version": 3
   },
   "file_extension": ".py",
   "mimetype": "text/x-python",
   "name": "python",
   "nbconvert_exporter": "python",
   "pygments_lexer": "ipython3",
   "version": "3.11.3"
  }
 },
 "nbformat": 4,
 "nbformat_minor": 5
}
